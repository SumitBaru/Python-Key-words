{
 "cells": [
  {
   "cell_type": "markdown",
   "id": "fa562e86-7bf4-4ce0-b0b4-cd594b13d1d8",
   "metadata": {},
   "source": [
    "#1. \n",
    "Python Keywords are some predefined and reserved words in Python that have special meanings. Keywords are used to define the syntax of the coding. The keyword cannot be used as an identifier, function, or variable name.\n",
    "The examples are print, True, False, import, break, continue."
   ]
  },
  {
   "cell_type": "markdown",
   "id": "b30e7e97-1f0e-4916-8a63-93fae3542889",
   "metadata": {},
   "source": [
    "#2. The rules are:\n",
    "1. Identifiers cannot be a keyword.\n",
    "2. Identifiers are case-sensitive.\n",
    "3. It can have a sequence of letters and digits. However, it must begin with a letter or \"_\". The first letter of an identifier cannot be a digit.\n",
    "4. It's a convention to start an identifier with a letter rather than \"_\".\n",
    "5. Whitespaces are not allowed.\n",
    "6. We cannot use special symbols like !, @, #, $, and so on."
   ]
  },
  {
   "cell_type": "code",
   "execution_count": 1,
   "id": "594a9da0-ab94-4116-9182-c2770079b62b",
   "metadata": {},
   "outputs": [],
   "source": [
    "number = 30\n",
    "\n",
    "#Here, number is an identifier which holds the value '30'."
   ]
  },
  {
   "cell_type": "code",
   "execution_count": null,
   "id": "73c51b14-6572-48b5-887a-46f7d3c0d48a",
   "metadata": {},
   "outputs": [],
   "source": []
  },
  {
   "cell_type": "markdown",
   "id": "586f34d4-030b-4e89-a91e-3255b6973de8",
   "metadata": {},
   "source": [
    "#3. Comments in Python are the lines in the code that are ignored by the interpreter during the execution of the program.\n",
    " Comments enhance the readability of the code and help the programmers to understand the code very carefully. It also helps in collaborating with other developers as adding comments makes it easier to explain the code."
   ]
  },
  {
   "cell_type": "code",
   "execution_count": 2,
   "id": "81249723-b740-4769-b8fb-2b0f8419c6a9",
   "metadata": {},
   "outputs": [],
   "source": [
    "#This is a sample comment of my assignment."
   ]
  },
  {
   "cell_type": "code",
   "execution_count": null,
   "id": "9a3f2799-77a7-4b76-b5b2-c35d69a7d1e9",
   "metadata": {},
   "outputs": [],
   "source": []
  },
  {
   "cell_type": "markdown",
   "id": "4f99ad48-46a7-4d9e-aacb-5f2bf0c0e841",
   "metadata": {},
   "source": [
    "#4. Because indentation defines the scope of statements, such as those within loops, conditionals, functions, and classes. Consistent and proper indentation is crucial for the interpreter to understand the logical structure of the code."
   ]
  },
  {
   "cell_type": "code",
   "execution_count": null,
   "id": "f0a8ac44-0a32-4eab-882c-28813d9c6ef3",
   "metadata": {},
   "outputs": [],
   "source": []
  },
  {
   "cell_type": "markdown",
   "id": "7eba78ff-62bb-45d1-8b8c-684da11c1c4f",
   "metadata": {},
   "source": [
    "#5. It will come in between the execution and will throw an error."
   ]
  },
  {
   "cell_type": "code",
   "execution_count": null,
   "id": "15ebb3e1-f81e-4a29-93de-1564dcf82f96",
   "metadata": {},
   "outputs": [],
   "source": []
  },
  {
   "cell_type": "markdown",
   "id": "4685aee5-f857-4170-90c4-5b6d65cae7de",
   "metadata": {},
   "source": [
    "#6. A statement is an instruction that the Python interpreter can execute where a combination of operands and operators is called an expression."
   ]
  },
  {
   "cell_type": "code",
   "execution_count": 5,
   "id": "90c98f95-9b87-4ee8-bf8a-b8bcc30fa39e",
   "metadata": {},
   "outputs": [
    {
     "name": "stdout",
     "output_type": "stream",
     "text": [
      "20\n"
     ]
    }
   ],
   "source": [
    "x = 10 # This is a statement.\n",
    "\n",
    "x1 = x +10 # This is an expression.\n",
    "\n",
    "print(x1)"
   ]
  },
  {
   "cell_type": "code",
   "execution_count": null,
   "id": "ae1dc395-7f55-4432-9bb2-446ca805fadd",
   "metadata": {},
   "outputs": [],
   "source": []
  }
 ],
 "metadata": {
  "kernelspec": {
   "display_name": "Python 3 (ipykernel)",
   "language": "python",
   "name": "python3"
  },
  "language_info": {
   "codemirror_mode": {
    "name": "ipython",
    "version": 3
   },
   "file_extension": ".py",
   "mimetype": "text/x-python",
   "name": "python",
   "nbconvert_exporter": "python",
   "pygments_lexer": "ipython3",
   "version": "3.12.2"
  }
 },
 "nbformat": 4,
 "nbformat_minor": 5
}
